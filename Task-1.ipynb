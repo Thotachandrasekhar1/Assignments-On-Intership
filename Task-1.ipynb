{
 "cells": [
  {
   "cell_type": "markdown",
   "id": "842cc244",
   "metadata": {},
   "source": [
    "##### import pandas as pd"
   ]
  },
  {
   "cell_type": "code",
   "execution_count": 2,
   "id": "d9212f8c",
   "metadata": {},
   "outputs": [],
   "source": [
    "df=pd.read_csv(r\"C:\\Users\\THOTA CHANDRASEKHAR\\Downloads\\Intership\\raw_data_v11_3.csv\")"
   ]
  },
  {
   "cell_type": "code",
   "execution_count": 3,
   "id": "16c741cc",
   "metadata": {},
   "outputs": [
    {
     "data": {
      "text/html": [
       "<div>\n",
       "<style scoped>\n",
       "    .dataframe tbody tr th:only-of-type {\n",
       "        vertical-align: middle;\n",
       "    }\n",
       "\n",
       "    .dataframe tbody tr th {\n",
       "        vertical-align: top;\n",
       "    }\n",
       "\n",
       "    .dataframe thead th {\n",
       "        text-align: right;\n",
       "    }\n",
       "</style>\n",
       "<table border=\"1\" class=\"dataframe\">\n",
       "  <thead>\n",
       "    <tr style=\"text-align: right;\">\n",
       "      <th></th>\n",
       "      <th>Date of Birth</th>\n",
       "      <th>What is your current profession?</th>\n",
       "      <th>What is the year of completion of your Highest Education Qualification?</th>\n",
       "      <th>Which of the following best describes you?</th>\n",
       "      <th>Please mention the name of the institute where you have completed or are currently pursuing your Data Science Certification Course.</th>\n",
       "      <th>In case your certification institute is \"Innomatics Research Labs\", please provide your Enrolled Batch Number.</th>\n",
       "      <th>Please indicate the time that suits you for your daily LIVE interaction with our Chief Data Scientist as part of your internship.</th>\n",
       "      <th>What do you think are most important skill right now for a skilled Data Scientist?</th>\n",
       "    </tr>\n",
       "  </thead>\n",
       "  <tbody>\n",
       "    <tr>\n",
       "      <th>0</th>\n",
       "      <td>9/16/2000</td>\n",
       "      <td>Fresher (I have completed my Education and loo...</td>\n",
       "      <td>7/30/2023</td>\n",
       "      <td>I am currently enrolled in a Data Science cert...</td>\n",
       "      <td>Innomatics Research Labs</td>\n",
       "      <td>251</td>\n",
       "      <td>6:00 to 7:00 PM IST</td>\n",
       "      <td>Extracting actionable insights from the raw da...</td>\n",
       "    </tr>\n",
       "    <tr>\n",
       "      <th>1</th>\n",
       "      <td>2/6/1998</td>\n",
       "      <td>Fresher (I have completed my Education and loo...</td>\n",
       "      <td>5/18/2022</td>\n",
       "      <td>I have never enrolled in any certification cou...</td>\n",
       "      <td>NaN</td>\n",
       "      <td>NaN</td>\n",
       "      <td>6:00 to 7:00 PM IST</td>\n",
       "      <td>Extracting actionable insights from the raw data</td>\n",
       "    </tr>\n",
       "    <tr>\n",
       "      <th>2</th>\n",
       "      <td>10/8/2003</td>\n",
       "      <td>Student (I am currently enrolled in some Educa...</td>\n",
       "      <td>4/1/2025</td>\n",
       "      <td>I am currently enrolled in a Data Science cert...</td>\n",
       "      <td>NaN</td>\n",
       "      <td>NaN</td>\n",
       "      <td>6:00 to 7:00 PM IST</td>\n",
       "      <td>Data Modelling</td>\n",
       "    </tr>\n",
       "    <tr>\n",
       "      <th>3</th>\n",
       "      <td>11/29/2001</td>\n",
       "      <td>Student (I am currently enrolled in some Educa...</td>\n",
       "      <td>5/15/2024</td>\n",
       "      <td>I have never enrolled in any certification cou...</td>\n",
       "      <td>NaN</td>\n",
       "      <td>NaN</td>\n",
       "      <td>5:00 to 6:00 PM IST</td>\n",
       "      <td>Extracting actionable insights from the raw da...</td>\n",
       "    </tr>\n",
       "    <tr>\n",
       "      <th>4</th>\n",
       "      <td>11/25/2004</td>\n",
       "      <td>Student (I am currently enrolled in some Educa...</td>\n",
       "      <td>1/10/2026</td>\n",
       "      <td>I have completed a Data Science certification ...</td>\n",
       "      <td>Velagapudi ramakrishna Siddhartha college</td>\n",
       "      <td>Na</td>\n",
       "      <td>6:00 to 7:00 PM IST</td>\n",
       "      <td>Extracting actionable insights from the raw da...</td>\n",
       "    </tr>\n",
       "  </tbody>\n",
       "</table>\n",
       "</div>"
      ],
      "text/plain": [
       "  Date of Birth                   What is your current profession?  \\\n",
       "0     9/16/2000  Fresher (I have completed my Education and loo...   \n",
       "1      2/6/1998  Fresher (I have completed my Education and loo...   \n",
       "2     10/8/2003  Student (I am currently enrolled in some Educa...   \n",
       "3    11/29/2001  Student (I am currently enrolled in some Educa...   \n",
       "4    11/25/2004  Student (I am currently enrolled in some Educa...   \n",
       "\n",
       "  What is the year of completion of your Highest Education Qualification?  \\\n",
       "0                                          7/30/2023                        \n",
       "1                                          5/18/2022                        \n",
       "2                                           4/1/2025                        \n",
       "3                                          5/15/2024                        \n",
       "4                                          1/10/2026                        \n",
       "\n",
       "          Which of the following best describes you?  \\\n",
       "0  I am currently enrolled in a Data Science cert...   \n",
       "1  I have never enrolled in any certification cou...   \n",
       "2  I am currently enrolled in a Data Science cert...   \n",
       "3  I have never enrolled in any certification cou...   \n",
       "4  I have completed a Data Science certification ...   \n",
       "\n",
       "  Please mention the name of the institute where you have completed or are currently pursuing your Data Science Certification Course.  \\\n",
       "0                           Innomatics Research Labs                                                                                    \n",
       "1                                                NaN                                                                                    \n",
       "2                                                NaN                                                                                    \n",
       "3                                                NaN                                                                                    \n",
       "4         Velagapudi ramakrishna Siddhartha college                                                                                     \n",
       "\n",
       "  In case your certification institute is \"Innomatics Research Labs\", please provide your Enrolled Batch Number.  \\\n",
       "0                                                251                                                               \n",
       "1                                                NaN                                                               \n",
       "2                                                NaN                                                               \n",
       "3                                                NaN                                                               \n",
       "4                                                 Na                                                               \n",
       "\n",
       "  Please indicate the time that suits you for your daily LIVE interaction with our Chief Data Scientist as part of your internship.  \\\n",
       "0                                6:00 to 7:00 PM IST                                                                                  \n",
       "1                                6:00 to 7:00 PM IST                                                                                  \n",
       "2                                6:00 to 7:00 PM IST                                                                                  \n",
       "3                                5:00 to 6:00 PM IST                                                                                  \n",
       "4                                6:00 to 7:00 PM IST                                                                                  \n",
       "\n",
       "  What do you think are most important skill right now for a skilled Data Scientist?  \n",
       "0  Extracting actionable insights from the raw da...                                  \n",
       "1   Extracting actionable insights from the raw data                                  \n",
       "2                                     Data Modelling                                  \n",
       "3  Extracting actionable insights from the raw da...                                  \n",
       "4  Extracting actionable insights from the raw da...                                  "
      ]
     },
     "execution_count": 3,
     "metadata": {},
     "output_type": "execute_result"
    }
   ],
   "source": [
    "df.head()"
   ]
  },
  {
   "cell_type": "markdown",
   "id": "570e82f3",
   "metadata": {},
   "source": [
    "### What is the current profession of most interns?"
   ]
  },
  {
   "cell_type": "code",
   "execution_count": 4,
   "id": "bb4e46a7",
   "metadata": {},
   "outputs": [
    {
     "data": {
      "text/plain": [
       "0    Student (I am currently enrolled in some Educa...\n",
       "Name: What is your current profession?, dtype: object"
      ]
     },
     "execution_count": 4,
     "metadata": {},
     "output_type": "execute_result"
    }
   ],
   "source": [
    "df[\"What is your current profession?\"].mode()"
   ]
  },
  {
   "cell_type": "markdown",
   "id": "3fac72df",
   "metadata": {},
   "source": [
    "### What are the preferred LIVE session timings?\n"
   ]
  },
  {
   "cell_type": "code",
   "execution_count": 5,
   "id": "8fde4c25",
   "metadata": {},
   "outputs": [
    {
     "data": {
      "text/plain": [
       "0    6:00 to 7:00 PM IST\n",
       "Name: Please indicate the time that suits you for your daily LIVE interaction with our Chief Data Scientist as part of your internship., dtype: object"
      ]
     },
     "execution_count": 5,
     "metadata": {},
     "output_type": "execute_result"
    }
   ],
   "source": [
    "df[\"Please indicate the time that suits you for your daily LIVE interaction with our Chief Data Scientist as part of your internship.\"].mode()"
   ]
  },
  {
   "cell_type": "markdown",
   "id": "b3f02be1",
   "metadata": {},
   "source": [
    "### How many interns are enrolled or have completed their data science professional courses?"
   ]
  },
  {
   "cell_type": "code",
   "execution_count": 6,
   "id": "f1db3578",
   "metadata": {},
   "outputs": [
    {
     "data": {
      "text/plain": [
       "405"
      ]
     },
     "execution_count": 6,
     "metadata": {},
     "output_type": "execute_result"
    }
   ],
   "source": [
    "(df[\"Which of the following best describes you?\"]==(\"I am currently enrolled in a Data Science certification course\" or \"I have completed a Data Science certification course\")).sum()"
   ]
  },
  {
   "cell_type": "markdown",
   "id": "d7fff5d0",
   "metadata": {},
   "source": [
    "### For interns who never enrolled in a data science certification course, what is the current profession of the majority of them?"
   ]
  },
  {
   "cell_type": "code",
   "execution_count": 7,
   "id": "0d708c5f",
   "metadata": {},
   "outputs": [
    {
     "data": {
      "text/plain": [
       "array(['I am currently enrolled in a Data Science certification course',\n",
       "       'I have never enrolled in any certification courses',\n",
       "       'I have completed a Data Science certification course'],\n",
       "      dtype=object)"
      ]
     },
     "execution_count": 7,
     "metadata": {},
     "output_type": "execute_result"
    }
   ],
   "source": [
    "df[\"Which of the following best describes you?\"].unique()"
   ]
  },
  {
   "cell_type": "code",
   "execution_count": 8,
   "id": "804f34f7",
   "metadata": {},
   "outputs": [
    {
     "data": {
      "text/plain": [
       "'Student (I am currently enrolled in some Educational Program)'"
      ]
     },
     "execution_count": 8,
     "metadata": {},
     "output_type": "execute_result"
    }
   ],
   "source": [
    "df[df[\"Which of the following best describes you?\"]==(\"I have never enrolled in any certification courses\")][\"What is your current profession?\"].mode()[0]"
   ]
  },
  {
   "cell_type": "markdown",
   "id": "f6e241af",
   "metadata": {},
   "source": [
    "### Which skill is the third most important for a data scientist?"
   ]
  },
  {
   "cell_type": "code",
   "execution_count": 9,
   "id": "051208a0",
   "metadata": {},
   "outputs": [],
   "source": [
    "list1= [\"Basics of backend application development using python\",\"Data Modelling\",\"Extracting actionable insights from the raw data\",\"LLMs\",\"MLOps\",\"Prompt Engineering\"]\n",
    "dict1= {}\n",
    "for i in list1:\n",
    "    dict1.update({i:df[\"What do you think are most important skill right now for a skilled Data Scientist?\"].str.contains(i).sum()})"
   ]
  },
  {
   "cell_type": "code",
   "execution_count": 10,
   "id": "00b94296",
   "metadata": {},
   "outputs": [
    {
     "data": {
      "text/plain": [
       "Basics of backend application development using python    522\n",
       "Data Modelling                                            825\n",
       "Extracting actionable insights from the raw data          869\n",
       "LLMs                                                      533\n",
       "MLOps                                                     596\n",
       "Prompt Engineering                                        425\n",
       "dtype: int64"
      ]
     },
     "execution_count": 10,
     "metadata": {},
     "output_type": "execute_result"
    }
   ],
   "source": [
    "pd.Series(dict1)"
   ]
  },
  {
   "cell_type": "code",
   "execution_count": 11,
   "id": "59e35d26",
   "metadata": {},
   "outputs": [
    {
     "data": {
      "text/plain": [
       "'MLOps'"
      ]
     },
     "execution_count": 11,
     "metadata": {},
     "output_type": "execute_result"
    }
   ],
   "source": [
    "pd.Series(dict1).sort_values(ascending=False).index[2]"
   ]
  },
  {
   "cell_type": "markdown",
   "id": "acc5a54d",
   "metadata": {},
   "source": [
    "### How many interns selected “Prompt Engineering” as the most important skill?"
   ]
  },
  {
   "cell_type": "code",
   "execution_count": 12,
   "id": "7341a45a",
   "metadata": {},
   "outputs": [
    {
     "data": {
      "text/plain": [
       "425"
      ]
     },
     "execution_count": 12,
     "metadata": {},
     "output_type": "execute_result"
    }
   ],
   "source": [
    "(df[\"What do you think are most important skill right now for a skilled Data Scientist?\"].str.contains(\"Prompt Engineering\")).sum()"
   ]
  },
  {
   "cell_type": "markdown",
   "id": "10209172",
   "metadata": {},
   "source": [
    "### Let’s now analyze the age groups of fellow interns."
   ]
  },
  {
   "cell_type": "markdown",
   "id": "243575b0",
   "metadata": {},
   "source": [
    "### What is the minimum age of an intern at Innomatics Research Labs?"
   ]
  },
  {
   "cell_type": "code",
   "execution_count": 13,
   "id": "b26e9d9c",
   "metadata": {},
   "outputs": [],
   "source": [
    "import datetime"
   ]
  },
  {
   "cell_type": "code",
   "execution_count": 14,
   "id": "710ab30a",
   "metadata": {},
   "outputs": [],
   "source": [
    "df[\"Date of Birth\"]=df[\"Date of Birth\"].astype(\"datetime64[ns]\")"
   ]
  },
  {
   "cell_type": "code",
   "execution_count": 15,
   "id": "dd01540d",
   "metadata": {},
   "outputs": [],
   "source": [
    "df[\"Age\"]=2023-df[\"Date of Birth\"].dt.year"
   ]
  },
  {
   "cell_type": "code",
   "execution_count": 16,
   "id": "fcf43100",
   "metadata": {},
   "outputs": [],
   "source": [
    "df.drop(df[df[\"Age\"]<=0].index,axis=0,inplace=True)"
   ]
  },
  {
   "cell_type": "code",
   "execution_count": 17,
   "id": "98faac2c",
   "metadata": {},
   "outputs": [
    {
     "data": {
      "text/plain": [
       "16"
      ]
     },
     "execution_count": 17,
     "metadata": {},
     "output_type": "execute_result"
    }
   ],
   "source": [
    "df[\"Age\"].min()"
   ]
  },
  {
   "cell_type": "markdown",
   "id": "c8196282",
   "metadata": {},
   "source": [
    "### How many interns were born on a Sunday?\n"
   ]
  },
  {
   "cell_type": "code",
   "execution_count": 18,
   "id": "2f07abda",
   "metadata": {},
   "outputs": [
    {
     "data": {
      "text/plain": [
       "dtype('<M8[ns]')"
      ]
     },
     "execution_count": 18,
     "metadata": {},
     "output_type": "execute_result"
    }
   ],
   "source": [
    "df[\"Date of Birth\"].dtype"
   ]
  },
  {
   "cell_type": "code",
   "execution_count": 19,
   "id": "1f53731d",
   "metadata": {},
   "outputs": [
    {
     "data": {
      "text/plain": [
       "125"
      ]
     },
     "execution_count": 19,
     "metadata": {},
     "output_type": "execute_result"
    }
   ],
   "source": [
    "(df[\"Date of Birth\"].dt.day_name()==\"Sunday\").sum()"
   ]
  },
  {
   "cell_type": "markdown",
   "id": "019e0bbe",
   "metadata": {},
   "source": [
    "### In which month do the majority of interns are born?"
   ]
  },
  {
   "cell_type": "code",
   "execution_count": 20,
   "id": "c933c484",
   "metadata": {},
   "outputs": [
    {
     "data": {
      "text/plain": [
       "'July'"
      ]
     },
     "execution_count": 20,
     "metadata": {},
     "output_type": "execute_result"
    }
   ],
   "source": [
    "df[\"Date of Birth\"].dt.month_name().mode()[0]"
   ]
  },
  {
   "cell_type": "markdown",
   "id": "197a5f0f",
   "metadata": {},
   "source": [
    "### What is the median age of a working professional?"
   ]
  },
  {
   "cell_type": "code",
   "execution_count": 21,
   "id": "4c3baf71",
   "metadata": {},
   "outputs": [
    {
     "data": {
      "text/plain": [
       "26.0"
      ]
     },
     "execution_count": 21,
     "metadata": {},
     "output_type": "execute_result"
    }
   ],
   "source": [
    "df[df[\"What is your current profession?\"]==\"Working Professional (I have completed my Education and working full time)\"][\"Age\"].median()"
   ]
  },
  {
   "cell_type": "markdown",
   "id": "e882989c",
   "metadata": {},
   "source": [
    "### What is the maximum age of a freelancer?\n"
   ]
  },
  {
   "cell_type": "code",
   "execution_count": 22,
   "id": "40d8f892",
   "metadata": {},
   "outputs": [
    {
     "data": {
      "text/plain": [
       "array(['Fresher (I have completed my Education and looking for a job now)',\n",
       "       'Student (I am currently enrolled in some Educational Program)',\n",
       "       'Freelancer (I have completed my Education and working part time or owns a business)',\n",
       "       'Working Professional (I have completed my Education and working full time)'],\n",
       "      dtype=object)"
      ]
     },
     "execution_count": 22,
     "metadata": {},
     "output_type": "execute_result"
    }
   ],
   "source": [
    "df[\"What is your current profession?\"].unique()"
   ]
  },
  {
   "cell_type": "code",
   "execution_count": 23,
   "id": "e43d5803",
   "metadata": {},
   "outputs": [
    {
     "data": {
      "text/plain": [
       "43"
      ]
     },
     "execution_count": 23,
     "metadata": {},
     "output_type": "execute_result"
    }
   ],
   "source": [
    "df[df[\"What is your current profession?\"]==\"Freelancer (I have completed my Education and working part time or owns a business)\"][\"Age\"].max()"
   ]
  },
  {
   "cell_type": "markdown",
   "id": "233b5fd6",
   "metadata": {},
   "source": [
    "### How many interns didn’t mention the name of the data science institute from where they completed or are currently pursuing the courses?"
   ]
  },
  {
   "cell_type": "code",
   "execution_count": 24,
   "id": "418668f3",
   "metadata": {},
   "outputs": [
    {
     "data": {
      "text/plain": [
       "320"
      ]
     },
     "execution_count": 24,
     "metadata": {},
     "output_type": "execute_result"
    }
   ],
   "source": [
    "(df[\"Please mention the name of the institute where you have completed or are currently pursuing your Data Science Certification Course.\"].isnull()).sum()"
   ]
  },
  {
   "cell_type": "markdown",
   "id": "52db02bd",
   "metadata": {},
   "source": [
    "### How many interns mentioned Innomatics as their data science institute?\n"
   ]
  },
  {
   "cell_type": "code",
   "execution_count": 25,
   "id": "82e877a0",
   "metadata": {},
   "outputs": [
    {
     "data": {
      "text/plain": [
       "278"
      ]
     },
     "execution_count": 25,
     "metadata": {},
     "output_type": "execute_result"
    }
   ],
   "source": [
    "df[\"Please mention the name of the institute where you have completed or are currently pursuing your Data Science Certification Course.\"].str.lower().str.contains(\"innomatics\").sum()"
   ]
  },
  {
   "cell_type": "code",
   "execution_count": null,
   "id": "57725ced",
   "metadata": {},
   "outputs": [],
   "source": []
  }
 ],
 "metadata": {
  "kernelspec": {
   "display_name": "Python 3 (ipykernel)",
   "language": "python",
   "name": "python3"
  },
  "language_info": {
   "codemirror_mode": {
    "name": "ipython",
    "version": 3
   },
   "file_extension": ".py",
   "mimetype": "text/x-python",
   "name": "python",
   "nbconvert_exporter": "python",
   "pygments_lexer": "ipython3",
   "version": "3.11.4"
  }
 },
 "nbformat": 4,
 "nbformat_minor": 5
}
